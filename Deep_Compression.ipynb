{
 "cells": [
  {
   "cell_type": "markdown",
   "metadata": {},
   "source": [
    "# Deep Compression: Compressing deep neural network"
   ]
  },
  {
   "cell_type": "markdown",
   "metadata": {},
   "source": [
    "## 0.1 Introduction\n",
    "\n",
    "Une grande partie du succès du deep learning provient de la construction de réseaux de neurones de plus en plus grands. Ces réseaux, de part leur complexité peuvent être demandant en calcul et en mémoire, ce qui les rend difficiles à déployer sur des systèmes embarqués avec des ressources matérielles limitées. La compression de modèle vise à réduire la taille des modèles tout en minimisant la perte de précision ou de performance. Une application utile de ces techniques de compression est par exemple le fait de pouvoir implémenter ces réseaux sur de petit appareils comme nos téléphone en limitant l'espace de mémoire requis, le temps d'exécution et la puissance consommée.\n",
    "\n",
    "\n",
    "\n",
    "Afind de réduire la taille et la complexité de ces réseau, l'article [[1]](#bib) présente une solution possible: la \"compression profonde\", un méthode en trois étapes: pruning, trained quantization et Huffman coding, qui ensemble permettent de réduire considérablement (de 35x à 49x) les besoins de stockage des réseaux de neurones sans en affecter leur précision. \n",
    "\n",
    "Ce notebook s'intéresse donc à la compression des réseaux de neurones et présente une implémentation de deux des techniques présentées dans l'article : le pruning et la quantification des poids."
   ]
  },
  {
   "cell_type": "code",
   "execution_count": 1,
   "metadata": {},
   "outputs": [
    {
     "name": "stdout",
     "output_type": "stream",
     "text": [
      "Requirement already satisfied: torch in c:\\users\\32474\\anaconda3\\lib\\site-packages (1.7.0)\n",
      "Requirement already satisfied: torchvision in c:\\users\\32474\\anaconda3\\lib\\site-packages (0.8.1)\n",
      "Requirement already satisfied: pytorch-ignite in c:\\users\\32474\\anaconda3\\lib\\site-packages (0.4.2)\n",
      "Requirement already satisfied: future in c:\\users\\32474\\anaconda3\\lib\\site-packages (from torch) (0.18.2)\n",
      "Requirement already satisfied: typing_extensions in c:\\users\\32474\\anaconda3\\lib\\site-packages (from torch) (3.7.4.2)\n",
      "Requirement already satisfied: dataclasses in c:\\users\\32474\\anaconda3\\lib\\site-packages (from torch) (0.6)\n",
      "Requirement already satisfied: numpy in c:\\users\\32474\\anaconda3\\lib\\site-packages (from torch) (1.18.5)\n",
      "Requirement already satisfied: pillow>=4.1.1 in c:\\users\\32474\\anaconda3\\lib\\site-packages (from torchvision) (7.2.0)\n"
     ]
    }
   ],
   "source": [
    "#au cas ou il ne serait as déjà installé\n",
    "!pip install torch torchvision pytorch-ignite"
   ]
  },
  {
   "cell_type": "code",
   "execution_count": 2,
   "metadata": {},
   "outputs": [
    {
     "name": "stderr",
     "output_type": "stream",
     "text": [
      "In C:\\Users\\32474\\anaconda3\\lib\\site-packages\\matplotlib\\mpl-data\\stylelib\\_classic_test.mplstyle: \n",
      "The text.latex.preview rcparam was deprecated in Matplotlib 3.3 and will be removed two minor releases later.\n",
      "In C:\\Users\\32474\\anaconda3\\lib\\site-packages\\matplotlib\\mpl-data\\stylelib\\_classic_test.mplstyle: \n",
      "The mathtext.fallback_to_cm rcparam was deprecated in Matplotlib 3.3 and will be removed two minor releases later.\n",
      "In C:\\Users\\32474\\anaconda3\\lib\\site-packages\\matplotlib\\mpl-data\\stylelib\\_classic_test.mplstyle: Support for setting the 'mathtext.fallback_to_cm' rcParam is deprecated since 3.3 and will be removed two minor releases later; use 'mathtext.fallback : 'cm' instead.\n",
      "In C:\\Users\\32474\\anaconda3\\lib\\site-packages\\matplotlib\\mpl-data\\stylelib\\_classic_test.mplstyle: \n",
      "The validate_bool_maybe_none function was deprecated in Matplotlib 3.3 and will be removed two minor releases later.\n",
      "In C:\\Users\\32474\\anaconda3\\lib\\site-packages\\matplotlib\\mpl-data\\stylelib\\_classic_test.mplstyle: \n",
      "The savefig.jpeg_quality rcparam was deprecated in Matplotlib 3.3 and will be removed two minor releases later.\n",
      "In C:\\Users\\32474\\anaconda3\\lib\\site-packages\\matplotlib\\mpl-data\\stylelib\\_classic_test.mplstyle: \n",
      "The keymap.all_axes rcparam was deprecated in Matplotlib 3.3 and will be removed two minor releases later.\n",
      "In C:\\Users\\32474\\anaconda3\\lib\\site-packages\\matplotlib\\mpl-data\\stylelib\\_classic_test.mplstyle: \n",
      "The animation.avconv_path rcparam was deprecated in Matplotlib 3.3 and will be removed two minor releases later.\n",
      "In C:\\Users\\32474\\anaconda3\\lib\\site-packages\\matplotlib\\mpl-data\\stylelib\\_classic_test.mplstyle: \n",
      "The animation.avconv_args rcparam was deprecated in Matplotlib 3.3 and will be removed two minor releases later.\n"
     ]
    }
   ],
   "source": [
    "import torch\n",
    "import torchvision\n",
    "import numpy as np\n",
    "import math\n",
    "import matplotlib.pyplot as plt\n",
    "%matplotlib inline"
   ]
  },
  {
   "cell_type": "markdown",
   "metadata": {},
   "source": [
    "# 0.2. Importation des données"
   ]
  },
  {
   "cell_type": "markdown",
   "metadata": {},
   "source": [
    "Nous commencons par importer les données de MNIST. La base de données MNIST représente des chiffres manuscrits et contient un ensemble de training de 60 000 exemples et un ensemble de test de 10 000 exemples."
   ]
  },
  {
   "cell_type": "code",
   "execution_count": 3,
   "metadata": {},
   "outputs": [
    {
     "name": "stdout",
     "output_type": "stream",
     "text": [
      "60000\n",
      "10000\n"
     ]
    }
   ],
   "source": [
    "import torchvision.transforms as transforms\n",
    "\n",
    "transform = transforms.Compose([\n",
    "                       transforms.ToTensor(),\n",
    "                       transforms.Normalize((0.1307,), (0.3081,))\n",
    "                   ])\n",
    "\n",
    "trainset = torchvision.datasets.MNIST('data', train=True, download=True, transform=transform)\n",
    "testset = torchvision.datasets.MNIST('data', train=False, download=True, transform=transform)\n",
    "\n",
    "print(len(trainset))\n",
    "print(len(testset))\n",
    "\n",
    "#afin d'avoir un temps d'exécution pas trop important on ne prend qu'une partie des données\n",
    "trainset, _ = torch.utils.data.random_split(trainset, (10000, 50000))\n",
    "testset, _ = torch.utils.data.random_split(testset, (1000, 9000))\n",
    "\n",
    "trainloader = torch.utils.data.DataLoader(trainset, batch_size=64, shuffle=True, num_workers=2)\n",
    "testloader = torch.utils.data.DataLoader(testset, batch_size=64, shuffle=False, num_workers=2)"
   ]
  },
  {
   "cell_type": "markdown",
   "metadata": {},
   "source": [
    "Regardons à quoi ressemble un élément de notre set de données"
   ]
  },
  {
   "cell_type": "code",
   "execution_count": 4,
   "metadata": {},
   "outputs": [
    {
     "data": {
      "image/png": "[encoded data removed]",
      "text/plain": [
       "<Figure size 288x288 with 4 Axes>"
      ]
     },
     "metadata": {
      "needs_background": "light"
     },
     "output_type": "display_data"
    }
   ],
   "source": [
    "dataiter = iter(trainloader)\n",
    "images, labels = dataiter.next()\n",
    "\n",
    "plt.figure(figsize=(4,4))\n",
    "for i in range(4):\n",
    "    l = labels[i].numpy()\n",
    "    plt.subplot(2, 2, i+1)\n",
    "    plt.title('%s: %d' % (\"Valeur\",l ))\n",
    "    plt.imshow(images[i].numpy()[0], cmap='Greys')\n",
    "    plt.axis('off')"
   ]
  },
  {
   "cell_type": "markdown",
   "metadata": {},
   "source": [
    "# 1. Pruning\n",
    "\n",
    "Les réseaux de neurones sont souvent sur-paramétrés et de nombreuses connexions entre neurones ne jouent pas forcément un rôle primordiale à la bonne exécution de celui-ci. \n",
    "\n",
    "L'élagage du réseau de neurones est une méthode de compression qui consiste à supprimer des poids d'un modèle entraîné. Il existe différentes manières d'élaguer un réseau neuronal. \n",
    "\n",
    "- On peut supprimer des poids. Cela se fait en définissant les paramètres individuels à zéro. On réduit le nombre de paramètres dans le modèle tout en conservant la même architecture. \n",
    "- On peut supprimer des nœuds entiers du réseau. Cela rendrait l'architecture du réseau elle-même plus petite, tout en visant à conserver la précision du plus grand réseau initial.\n",
    "\n",
    "<img src=\"img/pruning.png\" width=\"50%\"> (© [[4]](#bib))\n",
    "# \n",
    "\n",
    "\n",
    "Nous allons reproduire dans ce notebook le réseau LeNet-300-100 et nous concentrer sur la première méthode, la suppression de certains poids. Ce réseau a déjà été utilisé dans plusieurs articles afin d'évaluer la puissance et la qualité des méthodes de compression [[2]](#bib), [[3]](#bib). \n",
    "\n",
    "Il se compose de deux couches cachées de 300 et 100 neurones. Il y a 784 entrées (représentant les pixels d'une image de 28x28) et 10 sorties pour les chiffre de 0 à 9.\n",
    "\n",
    "<img src=\"img/LeNet.png\" width=\"30%\">"
   ]
  },
  {
   "cell_type": "code",
   "execution_count": 5,
   "metadata": {},
   "outputs": [],
   "source": [
    "import torch.nn as nn\n",
    "import torch.nn.functional as F\n",
    "\n",
    "class LeNet(nn.Module):\n",
    "    def __init__(self):\n",
    "        super(LeNet, self).__init__()\n",
    "        self.fc1 = MaskedLinear(784, 300)\n",
    "        self.fc2 = MaskedLinear(300, 100)\n",
    "        self.fc3 = MaskedLinear(100, 10)\n",
    "\n",
    "    def forward(self, x):\n",
    "        x = x.view(-1, 784)\n",
    "        x = F.relu(self.fc1.forward(x))\n",
    "        x = F.relu(self.fc2.forward(x))\n",
    "        x = F.log_softmax(self.fc3(x), dim=1)\n",
    "        return x\n"
   ]
  },
  {
   "cell_type": "markdown",
   "metadata": {},
   "source": [
    "Comme on peut le voir dans la cellule ci-dessus, nous allons définir pour ce modèle notre propre classe pour représenter une couche de neurones afin de pouvoir la manipuler plus facilement et lui ajouter des méthodes supplémentaires.\n",
    "\n",
    "On aimerait en effet pouvoir supprimer par la suite certains poids (c-à-d connexion entre deux neurones) dans le but de réduire la taille de notre modèle.\n",
    "\n",
    "Pour ce faire nous allons créer un masque (composer de 0 ou de 1) de la même taille que la matrice représentant les poids de la couche de neurones. Ce masque détermine si un poids particulier doit être utilisé ou non. Nous initialisons ce masque avec des 1 car nous commencerons par considérer tous les poids et supprimerons les poids inutiles par la suite."
   ]
  },
  {
   "cell_type": "code",
   "execution_count": 6,
   "metadata": {},
   "outputs": [],
   "source": [
    "\n",
    "class MaskedLinear(nn.Module):\n",
    "    \"\"\"Applies a masked linear transformation to the incoming data: :math:`y = (A * M)x + b`\n",
    "\n",
    "    Args:\n",
    "        in_features: size of each input sample\n",
    "        out_features: size of each output sample\n",
    "\n",
    "    Attributes:\n",
    "        weight: the learnable weights of the module of shape\n",
    "            (out_features x in_features)\n",
    "        bias:   the learnable bias of the module of shape (out_features)\n",
    "        mask: the unlearnable mask for the weight.\n",
    "            It has the same shape as weight (out_features x in_features)\n",
    "\n",
    "    \"\"\"\n",
    "    def __init__(self, in_features, out_features):\n",
    "        super().__init__()\n",
    "        self.in_features = in_features\n",
    "        self.out_features = out_features\n",
    "        self.weight = nn.Parameter(torch.Tensor(out_features, in_features))\n",
    "        self.bias = nn.Parameter(torch.Tensor(out_features))\n",
    "        \n",
    "        # Initialisation du masque avec des 1\n",
    "        self.mask = nn.Parameter(torch.ones([out_features, in_features]), requires_grad=False)\n",
    "        \n",
    "        #initioalisation des poids et biais\n",
    "        stdv = 1. / math.sqrt(self.weight.size(1))\n",
    "        self.weight.data.uniform_(-stdv, stdv)\n",
    "        self.bias.data.uniform_(-stdv, stdv)\n",
    "\n",
    "    def forward(self, input):\n",
    "        # Produit element par element entre les poids et le masque pour ignorer\n",
    "        # certaines connexions entre neurones\n",
    "        return F.linear(input, self.weight * self.mask, self.bias)\n",
    "\n",
    "    def __repr__(self):\n",
    "        # Affichage des paramètres du réseau\n",
    "        return self.__class__.__name__ + '(' \\\n",
    "            + 'in_features=' + str(self.in_features) \\\n",
    "            + ', out_features=' + str(self.out_features) \\\n",
    "            + ', bias=' + str(self.bias is not None) + ')'\n",
    "\n",
    "    def prune(self, threshold):\n",
    "        \"\"\"\n",
    "        Supprime les poids de la couche si ceux-ci sont inférieurs au treshold\n",
    "        \"\"\"\n",
    "        # converti les tenseur vers numpy\n",
    "        tensor = self.weight.data.cpu().numpy()\n",
    "        mask = self.mask.data.cpu().numpy()\n",
    "        \n",
    "        #met un zero dans le masque (supprime la connexion) si le poids est inférieur à un treshold donné\n",
    "        new_mask = np.where(abs(tensor) < threshold, 0, mask) #0 si vrai, mask sinon\n",
    "        \n",
    "        # applique les nouveau poids et masque\n",
    "        self.weight.data = torch.from_numpy(tensor * new_mask)\n",
    "        self.mask.data = torch.from_numpy(new_mask)"
   ]
  },
  {
   "cell_type": "markdown",
   "metadata": {},
   "source": [
    "#### Quels neurones ou connexions peut-on supprimer ?\n",
    "\n",
    "Un défi majeur dans la suppression des poids est de déterminer lesquelles enlever. Il existe différentes heuristiques et méthodes pour déterminer quels paramètres sont moins importants et peuvent être supprimés avec un effet minimal sur la précision. Le but est de supprimer davantage de paramètres moins importants.\n",
    "\n",
    "L'un des moyens les plus simples de compression est basé sur l'ampleur du poids. Supprimer un poids revient essentiellement à le remettre à zéro. On peut minimiser l'effet sur le réseau en supprimant les pondérations qui sont déjà proches de zéro. Cela peut être mis en œuvre en supprimant tous les poids inférieurs (en valeur absolue) à un certain seuil. \n",
    "\n",
    "\n",
    "Alternativement, on peut également supprimer des neurones entiers comme le propose [[3]](#bib). Lors de l'exécution d'un jeu de données via un réseau, certaines statistiques des activations peuvent être observées. Certains neurones produisent toujours des valeurs proches de zéro et ces neurones peuvent probablement être supprimés avec peu d'impact sur le modèle. L’intuition est que si un neurone s’active rarement avec une valeur élevée, il est rarement utilisé dans la tâche du modèle.\n",
    "\n",
    "De plus la redondance des paramètres entre deux neurone d'une même couche peut signifier qu'un de ces neurones peut probablement être supprimé. Si deux neurones dans une couche ont des poids ou des activations très similaires, cela peut signifier qu'ils *font la même chose*.  Par cette intuition, nous pouvons donc supprimer l'un des neurones tout en conservant une précision semblable.\n",
    "\n",
    "Idéalement dans un réseau de neurones, tous les neurones ont des paramètres uniques et des activations de sortie qui sont d'une ampleur significative (sinon on peut supprimer des connexions) et non redondantes (sinon on peut supprimer des neurones).\n",
    "\n",
    "Pour la suite de ce notebook nous nous concentrerons sur la suppression des connexions entre neurones en annulant les poids en question. La méthode *prune()* définie ci-dessus permettra de supprimer les poids inférieurs à une certaine valeur de \"*treshold*\"\n",
    "\n",
    "\n",
    "Commencons par instancier notre réseau LeNet-300-100."
   ]
  },
  {
   "cell_type": "code",
   "execution_count": 7,
   "metadata": {},
   "outputs": [
    {
     "name": "stdout",
     "output_type": "stream",
     "text": [
      "Param name           Shape                          Type           \n",
      "----------------------------------------------------------------------\n",
      "fc1.weight           torch.Size([300, 784])         torch.float32  \n",
      "fc1.bias             torch.Size([300])              torch.float32  \n",
      "fc1.mask             torch.Size([300, 784])         torch.float32  \n",
      "fc2.weight           torch.Size([100, 300])         torch.float32  \n",
      "fc2.bias             torch.Size([100])              torch.float32  \n",
      "fc2.mask             torch.Size([100, 300])         torch.float32  \n",
      "fc3.weight           torch.Size([10, 100])          torch.float32  \n",
      "fc3.bias             torch.Size([10])               torch.float32  \n",
      "fc3.mask             torch.Size([10, 100])          torch.float32  \n"
     ]
    }
   ],
   "source": [
    "model = LeNet()\n",
    "\n",
    "#affiche les caractéristiques de notre modèle \n",
    "print(f\"{'Param name':20} {'Shape':30} {'Type':15}\")\n",
    "print('-'*70)\n",
    "for name, param in model.named_parameters():\n",
    "    print(f'{name:20} {str(param.shape):30} {str(param.dtype):15}')"
   ]
  },
  {
   "cell_type": "code",
   "execution_count": 8,
   "metadata": {},
   "outputs": [],
   "source": [
    "optimizer = torch.optim.Adam(model.parameters(), lr=0.001, weight_decay=0.0001)\n",
    "initial_optimizer_state_dict = optimizer.state_dict()"
   ]
  },
  {
   "cell_type": "markdown",
   "metadata": {},
   "source": [
    "Nous allons maintenant définir les fonctions qui permettrons d'entrainer notre modèle et d'évaluer la précision de celui-ci."
   ]
  },
  {
   "cell_type": "code",
   "execution_count": 9,
   "metadata": {},
   "outputs": [],
   "source": [
    "from tqdm import tqdm\n",
    "def train(epochs):\n",
    "    model.train()\n",
    "    for epoch in range(epochs):\n",
    "        pbar = tqdm(enumerate(trainloader), total=len(trainloader)) #pour une animation lors de l'entrainement du modèle\n",
    "        for batch_idx, (data, target) in pbar:\n",
    "            data, target = data, target\n",
    "            optimizer.zero_grad()\n",
    "            output = model(data)\n",
    "            loss = F.nll_loss(output, target)\n",
    "            loss.backward()\n",
    "\n",
    "            # zero-out all the gradients corresponding to the pruned connections\n",
    "            for name, p in model.named_parameters():\n",
    "                if 'mask' in name:\n",
    "                    continue\n",
    "                tensor = p.data.cpu().numpy()\n",
    "                grad_tensor = p.grad.data.cpu().numpy()\n",
    "                grad_tensor = np.where(tensor==0, 0, grad_tensor)\n",
    "                p.grad.data = torch.from_numpy(grad_tensor)\n",
    "\n",
    "            optimizer.step()\n",
    "            if batch_idx % 10 == 0:\n",
    "                done = batch_idx * len(data)\n",
    "                percentage = 100. * batch_idx / len(trainloader)\n",
    "                pbar.set_description(f'Train Epoch: {epoch} [{done:5}/{len(trainloader.dataset)} ({percentage:3.0f}%)]  Loss: {loss.item():.6f}')"
   ]
  },
  {
   "cell_type": "markdown",
   "metadata": {},
   "source": [
    "Test de la précision du modèle avec les données de test."
   ]
  },
  {
   "cell_type": "code",
   "execution_count": 10,
   "metadata": {},
   "outputs": [],
   "source": [
    "def test():\n",
    "    model.eval()\n",
    "    test_loss = 0\n",
    "    correct = 0\n",
    "    with torch.no_grad():\n",
    "        for data, target in testloader:\n",
    "            output = model(data)\n",
    "            test_loss += F.nll_loss(output, target, reduction='sum').item() # sum up batch loss\n",
    "            pred = output.data.max(1, keepdim=True)[1] # get the index of the max log-probability\n",
    "            correct += pred.eq(target.data.view_as(pred)).sum().item()\n",
    "\n",
    "        test_loss /= len(testloader.dataset)\n",
    "        accuracy = 100. * correct / len(testloader.dataset)\n",
    "        print(f'Test set: Average loss: {test_loss:.4f}, Accuracy: {correct}/{len(testloader.dataset)} ({accuracy:.2f}%)')\n",
    "    return accuracy"
   ]
  },
  {
   "cell_type": "markdown",
   "metadata": {},
   "source": [
    "Fonction permettant d'afficher le pourcentage de connexions supprimées."
   ]
  },
  {
   "cell_type": "code",
   "execution_count": 11,
   "metadata": {},
   "outputs": [],
   "source": [
    "def print_nonzeros(model):\n",
    "    nonzero = total = 0\n",
    "    for name, p in model.named_parameters():\n",
    "        if 'mask' in name:\n",
    "            continue\n",
    "        tensor = p.data.cpu().numpy()\n",
    "        nz_count = np.count_nonzero(tensor)\n",
    "        total_params = np.prod(tensor.shape)\n",
    "        nonzero += nz_count\n",
    "        total += total_params\n",
    "        print(f'{name:20} | nonzeros = {nz_count:7} / {total_params:7} ({100 * nz_count / total_params:6.2f}%) | total_pruned = {total_params - nz_count :7} | shape = {tensor.shape}')\n",
    "    print(f'alive: {nonzero}, pruned : {total - nonzero}, total: {total}, Compression rate : {total/nonzero:10.2f}x  ({100 * (total-nonzero) / total:6.2f}% pruned)')"
   ]
  },
  {
   "cell_type": "markdown",
   "metadata": {},
   "source": [
    "#### Entrainement initial du modèle\n",
    "\n",
    "Nous commencons par entrainer notre réseau complet avec tous les poids potentiellement non nuls."
   ]
  },
  {
   "cell_type": "code",
   "execution_count": 12,
   "metadata": {},
   "outputs": [
    {
     "name": "stdout",
     "output_type": "stream",
     "text": [
      "--- Initial training ---\n"
     ]
    },
    {
     "name": "stderr",
     "output_type": "stream",
     "text": [
      "Train Epoch: 0 [ 9600/10000 ( 96%)]  Loss: 0.334509: 100%|██████████| 157/157 [00:02<00:00, 73.66it/s]\n",
      "Train Epoch: 1 [ 9600/10000 ( 96%)]  Loss: 0.254838: 100%|██████████| 157/157 [00:02<00:00, 75.43it/s]\n",
      "Train Epoch: 2 [ 9600/10000 ( 96%)]  Loss: 0.131492: 100%|██████████| 157/157 [00:02<00:00, 73.55it/s]\n",
      "Train Epoch: 3 [ 9600/10000 ( 96%)]  Loss: 0.093142: 100%|██████████| 157/157 [00:01<00:00, 81.27it/s]\n",
      "Train Epoch: 4 [ 9600/10000 ( 96%)]  Loss: 0.054362: 100%|██████████| 157/157 [00:01<00:00, 79.30it/s]\n",
      "Train Epoch: 5 [ 9600/10000 ( 96%)]  Loss: 0.062114: 100%|██████████| 157/157 [00:01<00:00, 79.15it/s]\n",
      "Train Epoch: 6 [ 9600/10000 ( 96%)]  Loss: 0.023650: 100%|██████████| 157/157 [00:01<00:00, 78.51it/s]\n",
      "Train Epoch: 7 [ 9600/10000 ( 96%)]  Loss: 0.010849: 100%|██████████| 157/157 [00:02<00:00, 67.65it/s]\n",
      "Train Epoch: 8 [ 9600/10000 ( 96%)]  Loss: 0.007140: 100%|██████████| 157/157 [00:02<00:00, 67.09it/s]\n",
      "Train Epoch: 9 [ 9600/10000 ( 96%)]  Loss: 0.001299: 100%|██████████| 157/157 [00:02<00:00, 68.06it/s]\n"
     ]
    }
   ],
   "source": [
    "# Initial training\n",
    "print(\"--- Initial training ---\")\n",
    "train(10) #nbr of epochs"
   ]
  },
  {
   "cell_type": "markdown",
   "metadata": {},
   "source": [
    "Nous regardons ensuite la précision de notre modèle et nous pouvons également vérifier que la majorité des poids ne sont pas nul (On a en effet supprimer encore aucune connexion)"
   ]
  },
  {
   "cell_type": "code",
   "execution_count": 13,
   "metadata": {},
   "outputs": [
    {
     "name": "stdout",
     "output_type": "stream",
     "text": [
      "--- Before pruning ---\n",
      "Test set: Average loss: 0.1846, Accuracy: 950/1000 (95.00%)\n",
      "fc1.weight           | nonzeros =  235200 /  235200 (100.00%) | total_pruned =       0 | shape = (300, 784)\n",
      "fc1.bias             | nonzeros =     300 /     300 (100.00%) | total_pruned =       0 | shape = (300,)\n",
      "fc2.weight           | nonzeros =   30000 /   30000 (100.00%) | total_pruned =       0 | shape = (100, 300)\n",
      "fc2.bias             | nonzeros =     100 /     100 (100.00%) | total_pruned =       0 | shape = (100,)\n",
      "fc3.weight           | nonzeros =    1000 /    1000 (100.00%) | total_pruned =       0 | shape = (10, 100)\n",
      "fc3.bias             | nonzeros =      10 /      10 (100.00%) | total_pruned =       0 | shape = (10,)\n",
      "alive: 266610, pruned : 0, total: 266610, Compression rate :       1.00x  (  0.00% pruned)\n"
     ]
    }
   ],
   "source": [
    "\n",
    "print(\"--- Before pruning ---\")\n",
    "test()\n",
    "print_nonzeros(model)"
   ]
  },
  {
   "cell_type": "code",
   "execution_count": 14,
   "metadata": {},
   "outputs": [
    {
     "name": "stdout",
     "output_type": "stream",
     "text": [
      "tensor([ 8.3446e-02, -9.5430e-02, -5.7186e-02,  8.8429e-02, -2.2730e-03,\n",
      "        -1.0767e-01, -4.9738e-02,  7.4624e-02,  3.0491e-02, -1.8097e-01,\n",
      "        -2.3349e-02, -1.4435e-01, -6.8009e-02, -1.5333e-04,  4.8676e-02,\n",
      "         6.5138e-02, -1.2402e-01, -1.6897e-01,  8.8874e-02,  1.0095e-02,\n",
      "         9.5784e-02, -1.0014e-01, -4.1932e-03,  7.9706e-02, -7.5099e-32,\n",
      "         8.8313e-02, -5.5840e-02,  7.7716e-02,  2.4121e-06, -1.3899e-02,\n",
      "         8.0357e-02, -1.1538e-01, -9.2499e-03,  8.1868e-02, -1.4350e-01,\n",
      "        -1.7740e-02, -3.1543e-03,  3.8000e-02,  2.4265e-02,  2.1870e-02,\n",
      "        -4.9634e-02,  5.3108e-02, -1.2917e-01, -6.0647e-02, -4.5340e-02,\n",
      "         9.2203e-02, -1.2090e-01,  9.8734e-02, -1.0663e-02, -1.0478e-02,\n",
      "        -1.2236e-01, -4.7056e-02,  1.0270e-01, -1.0921e-01,  4.5280e-02,\n",
      "        -1.7850e-01,  2.4625e-02,  8.3390e-02, -6.7829e-02, -1.0410e-01,\n",
      "        -3.8240e-02, -1.2908e-01,  9.6164e-02,  5.8065e-02, -6.9647e-04,\n",
      "        -4.4709e-03, -9.4603e-02, -1.8220e-01, -2.9759e-02,  8.4553e-02,\n",
      "        -7.6615e-02,  3.4462e-02,  5.8517e-02, -4.6057e-02, -1.6168e-01,\n",
      "         1.1033e-01, -9.3523e-02, -9.1931e-08, -8.0942e-02,  1.2821e-02,\n",
      "         5.6844e-02, -1.1648e-02,  1.5540e-01, -2.0265e-02,  1.1329e-01,\n",
      "         2.1892e-02,  1.4209e-01,  8.5534e-02, -9.4578e-02,  2.9684e-02,\n",
      "         1.0775e-01, -4.7938e-02,  6.3150e-02,  7.4989e-02, -4.9626e-02,\n",
      "         7.8425e-04, -9.7508e-03,  1.0042e-01,  6.8551e-02,  8.5325e-02],\n",
      "       grad_fn=<SelectBackward>)\n"
     ]
    }
   ],
   "source": [
    "#poids d'un des neurone de la dernière couche\n",
    "print(model.fc3.weight[0])"
   ]
  },
  {
   "cell_type": "markdown",
   "metadata": {},
   "source": [
    "#### Suppression de certaine connexion\n",
    "\n",
    "Nous pouvons maintenant supprimer des connexions entre neurones dont le rôle serait peu important\n",
    "\n",
    "Une des méthodes possibles afin de déterminer le seuil à partir duquel une connexion peut être supprimée est présentée dans un article précédent du même auteur Song Hang: *Learning both Weights and Connections for Efficient Neural Networks*.\n",
    "\n"
   ]
  },
  {
   "cell_type": "markdown",
   "metadata": {},
   "source": [
    "<a id='sParam'></a>\n",
    "Dans cette article **s** est définit comme un paramètre de qualité / valeur de sensibilité.\n",
    "Et le seuil de suppression est choisi comme ce paramètre de qualité multiplié par l'écart type des poids d'une couche."
   ]
  },
  {
   "cell_type": "code",
   "execution_count": 15,
   "metadata": {},
   "outputs": [
    {
     "name": "stdout",
     "output_type": "stream",
     "text": [
      "Pruning with threshold : 0.032838162034749985 for layer fc1\n",
      "Pruning with threshold : 0.04972555860877037 for layer fc2\n",
      "Pruning with threshold : 0.08917683362960815 for layer fc3\n"
     ]
    }
   ],
   "source": [
    "s = 1\n",
    "for name, module in model.named_modules():\n",
    "            if name in ['fc1', 'fc2', 'fc3']:\n",
    "                threshold = np.std(module.weight.data.cpu().numpy()) * s\n",
    "                print(f'Pruning with threshold : {threshold} for layer {name}')\n",
    "                module.prune(threshold)"
   ]
  },
  {
   "cell_type": "code",
   "execution_count": 16,
   "metadata": {},
   "outputs": [
    {
     "name": "stdout",
     "output_type": "stream",
     "text": [
      "--- After pruning ---\n",
      "Test set: Average loss: 0.1876, Accuracy: 945/1000 (94.50%)\n",
      "fc1.weight           | nonzeros =   57496 /  235200 ( 24.45%) | total_pruned =  177704 | shape = (300, 784)\n",
      "fc1.bias             | nonzeros =     300 /     300 (100.00%) | total_pruned =       0 | shape = (300,)\n",
      "fc2.weight           | nonzeros =    8964 /   30000 ( 29.88%) | total_pruned =   21036 | shape = (100, 300)\n",
      "fc2.bias             | nonzeros =     100 /     100 (100.00%) | total_pruned =       0 | shape = (100,)\n",
      "fc3.weight           | nonzeros =     369 /    1000 ( 36.90%) | total_pruned =     631 | shape = (10, 100)\n",
      "fc3.bias             | nonzeros =      10 /      10 (100.00%) | total_pruned =       0 | shape = (10,)\n",
      "alive: 67239, pruned : 199371, total: 266610, Compression rate :       3.97x  ( 74.78% pruned)\n"
     ]
    }
   ],
   "source": [
    "print(\"--- After pruning ---\")\n",
    "test()\n",
    "print_nonzeros(model)"
   ]
  },
  {
   "cell_type": "markdown",
   "metadata": {},
   "source": [
    "On note une faible baisse de la précision (de l'ordre de 3 %) pour un nombre important de parmaètre supprimés (de l'odre de 80% !).\n",
    "\n",
    "On peut examiner à nouveau les poids d'un des neurones de la couche de sortie et constater que la majorité des poids ont bien été annulés. "
   ]
  },
  {
   "cell_type": "code",
   "execution_count": 17,
   "metadata": {},
   "outputs": [
    {
     "name": "stdout",
     "output_type": "stream",
     "text": [
      "tensor([ 0.0000, -0.0954, -0.0000,  0.0000, -0.0000, -0.1077, -0.0000,  0.0000,\n",
      "         0.0000, -0.1810, -0.0000, -0.1443, -0.0000, -0.0000,  0.0000,  0.0000,\n",
      "        -0.1240, -0.1690,  0.0000,  0.0000,  0.0958, -0.1001, -0.0000,  0.0000,\n",
      "        -0.0000,  0.0000, -0.0000,  0.0000,  0.0000, -0.0000,  0.0000, -0.1154,\n",
      "        -0.0000,  0.0000, -0.1435, -0.0000, -0.0000,  0.0000,  0.0000,  0.0000,\n",
      "        -0.0000,  0.0000, -0.1292, -0.0000, -0.0000,  0.0922, -0.1209,  0.0987,\n",
      "        -0.0000, -0.0000, -0.1224, -0.0000,  0.1027, -0.1092,  0.0000, -0.1785,\n",
      "         0.0000,  0.0000, -0.0000, -0.1041, -0.0000, -0.1291,  0.0962,  0.0000,\n",
      "        -0.0000, -0.0000, -0.0946, -0.1822, -0.0000,  0.0000, -0.0000,  0.0000,\n",
      "         0.0000, -0.0000, -0.1617,  0.1103, -0.0935, -0.0000, -0.0000,  0.0000,\n",
      "         0.0000, -0.0000,  0.1554, -0.0000,  0.1133,  0.0000,  0.1421,  0.0000,\n",
      "        -0.0946,  0.0000,  0.1077, -0.0000,  0.0000,  0.0000, -0.0000,  0.0000,\n",
      "        -0.0000,  0.1004,  0.0000,  0.0000], grad_fn=<SelectBackward>)\n"
     ]
    }
   ],
   "source": [
    "print(model.fc3.weight[0])"
   ]
  },
  {
   "cell_type": "markdown",
   "metadata": {},
   "source": [
    "#### Réentrainement du modèle réduit\n",
    "\n",
    "Une fois la majorité des poids annulée on peut réentrainer notre réseau tout en maintenant les poids des connexions supprimées à 0 grâce au masque crée lors de la définition de la classe **MaskedLinear** (représentant une couche de neurones et les connexions supprimées).\n",
    "\n",
    "<img src=\"img/pruning2.png\" width=\"20%\"> (© [[4]](#bib))"
   ]
  },
  {
   "cell_type": "code",
   "execution_count": 18,
   "metadata": {},
   "outputs": [
    {
     "name": "stdout",
     "output_type": "stream",
     "text": [
      "--- Retraining ---\n"
     ]
    },
    {
     "name": "stderr",
     "output_type": "stream",
     "text": [
      "Train Epoch: 0 [ 9600/10000 ( 96%)]  Loss: 0.043163: 100%|██████████| 157/157 [00:02<00:00, 70.56it/s]\n",
      "Train Epoch: 1 [ 9600/10000 ( 96%)]  Loss: 0.010794: 100%|██████████| 157/157 [00:02<00:00, 69.32it/s]\n",
      "Train Epoch: 2 [ 9600/10000 ( 96%)]  Loss: 0.007883: 100%|██████████| 157/157 [00:02<00:00, 72.71it/s]\n",
      "Train Epoch: 3 [ 9600/10000 ( 96%)]  Loss: 0.002033: 100%|██████████| 157/157 [00:02<00:00, 65.03it/s]\n",
      "Train Epoch: 4 [ 9600/10000 ( 96%)]  Loss: 0.001360: 100%|██████████| 157/157 [00:02<00:00, 66.90it/s]\n",
      "Train Epoch: 5 [ 9600/10000 ( 96%)]  Loss: 0.001750: 100%|██████████| 157/157 [00:02<00:00, 70.91it/s]\n",
      "Train Epoch: 6 [ 9600/10000 ( 96%)]  Loss: 0.001159: 100%|██████████| 157/157 [00:02<00:00, 64.49it/s]\n",
      "Train Epoch: 7 [ 9600/10000 ( 96%)]  Loss: 0.002177: 100%|██████████| 157/157 [00:02<00:00, 66.79it/s]\n",
      "Train Epoch: 8 [ 9600/10000 ( 96%)]  Loss: 0.000840: 100%|██████████| 157/157 [00:02<00:00, 74.04it/s]\n",
      "Train Epoch: 9 [ 9600/10000 ( 96%)]  Loss: 0.034911: 100%|██████████| 157/157 [00:01<00:00, 81.82it/s]\n"
     ]
    },
    {
     "name": "stdout",
     "output_type": "stream",
     "text": [
      "--- After Retraining ---\n",
      "Test set: Average loss: 0.2932, Accuracy: 931/1000 (93.10%)\n",
      "fc1.weight           | nonzeros =   57496 /  235200 ( 24.45%) | total_pruned =  177704 | shape = (300, 784)\n",
      "fc1.bias             | nonzeros =     300 /     300 (100.00%) | total_pruned =       0 | shape = (300,)\n",
      "fc2.weight           | nonzeros =    8964 /   30000 ( 29.88%) | total_pruned =   21036 | shape = (100, 300)\n",
      "fc2.bias             | nonzeros =     100 /     100 (100.00%) | total_pruned =       0 | shape = (100,)\n",
      "fc3.weight           | nonzeros =     369 /    1000 ( 36.90%) | total_pruned =     631 | shape = (10, 100)\n",
      "fc3.bias             | nonzeros =      10 /      10 (100.00%) | total_pruned =       0 | shape = (10,)\n",
      "alive: 67239, pruned : 199371, total: 266610, Compression rate :       3.97x  ( 74.78% pruned)\n"
     ]
    }
   ],
   "source": [
    "# Retrain\n",
    "print(\"--- Retraining ---\")\n",
    "optimizer.load_state_dict(initial_optimizer_state_dict) # Reset the optimizer\n",
    "train(10)\n",
    "\n",
    "print(\"--- After Retraining ---\")\n",
    "test()\n",
    "print_nonzeros(model)"
   ]
  },
  {
   "cell_type": "markdown",
   "metadata": {},
   "source": [
    "On retrouve une précision acrue et qui dépasse même parfois la précision initiale alors qu'une grande partie des poids (~80%) ont été supprimés! (Ceci est dû au fait que nous n'avons pas entrainé suffisament notre modèle initial pour atteindre une précision optimale afin que le code puisse tourner relativement vite)\n",
    "\n",
    "Vous pouvez jouer avec le paramètre **s** ([ici](#sParam)) en l'augmentant et vérifier jusqu'à quel niveau on peut supprimer des paramètres du réseau tout en conservant sa précision. (Non mais vraiment faites-le c'est impressionnant 😉 )"
   ]
  },
  {
   "cell_type": "markdown",
   "metadata": {},
   "source": [
    "# <a id=\"sec2\">2. Trained quantization and weight sharing</a>\n",
    "\n",
    "Passons maintenant à l'étape suivante de compression. (Si vous avez abusé avec la paramètre **s**  remettez le vers *1* et relancez les cellules précédentes: *Run* => *run all above selected cell* et attendez un petit peu)\n",
    "\n",
    "\n",
    "Le partage de poids permet de comprimer davantage le réseau en réduisant le\n",
    "nombre de bits requis pour représenter chaque poids. Nous limitons le nombre de poids effectifs que nous avons besoin de\n",
    "stocker en ayant plusieurs connexions partageant le même poids. Puis par la suite il est possible d'affiner ces poids partagés en entrainant à nouveau le modèle.\n",
    "\n",
    "<img src=\"img/poid_partage.png\" width=\"50%\"> (© [[1]](#bib))\n",
    "\n",
    "Le partage de poids est illustré sur la figure ci-dessus. Supposons que nous ayons une couche qui a 4 neurones d'entrée et 4\n",
    "neurones de sortie, le poids est une matrice 4 × 4. A gauche se trouve la matrice de poids 4 × 4. Les poids sont quantifiés/regroupés en 4 groupes (4 couleurs),\n",
    "tous les poids dans le même groupe partagent la même valeur, donc pour chaque poids, il faut alors stocker uniquement\n",
    "un petit index dans une table de poids partagés. \n",
    "\n",
    "Le gain de mémoire peut se calculer en exprimant le taux de compression analytiquement. Pour un réseau avec $n$ connexions, où chacune stocke son poids correspondant sur un espace mémoire de $b$ bits, il faudra $nb$ bits pour stocker la matrice de poids.\n",
    "\n",
    "Si l'on regroupe ces poids en $k$ groupes, il nous faudra pour chaque connexion $log_2(k)$ bits pour stocker l'index renvoyant à un de ces $k$ groupes ainsi que $kb$ bits pour stocker ces poids en question.\n",
    "\n",
    "Le taux de compression est donc donné par:\n",
    "\n",
    "$$ r = \\frac{nb}{n log_2(k) + kb}$$\n",
    "\n",
    "### Clustering\n",
    "\n",
    "Nous utilisons le clustering k-means pour identifier les poids partagés pour chaque couche du réseau, de sorte que tous les poids qui tombent dans le même cluster partageront le même poids. Les poids ne sont pas partagés entre couches. \n",
    "\n",
    "Nous partitionnons les $n$ poids originaux $W = {w_1, w_2, ..., w_n}$ en $k$ clusters $C = {c_1, c_2, ..., c_k}$ avec $n >> k$, en de minimisant la somme des carrés intra-cluster:\n",
    "\n",
    "$$\\arg\\limits_{C} \\min \\sum_{i=1} ^{k} \\sum_{w \\in c_i} |w - c_i|^2 $$\n",
    "\n",
    "##### Initialisation des centres\n",
    "\n",
    "L'initialisation des centres a un impact sur la qualité du clustering et affecte donc la précision de la prédiction du réseau. Il existe trois méthodes d'initialisation qui sont discuté dans [[1]](#bib): \n",
    "\n",
    "- Forgy (aléatoire), basée sur une densité linéaire d'initialisation.\n",
    "\n",
    "- Initialisation basée sur la fonction de distribution des poids.\n",
    "\n",
    "- L'initialisation linéaire:  Espace linéairement les centres de gravité entre les [min, max] des poids d'origine.\n",
    "\n",
    "Il en sort de [[1]](#bib) que la meilleur méthode est l'initialisation linéaire et nous allons donc l'implémenter dans la suite de ce notebook. Cette méthode d'initialisation est invariante à la distribution des poids et est la plus dispersée par rapport aux deux premières méthodes (les poids représentant les $k$ groupes sont les plus différents).\n",
    "\n",
    "Les poids plus élevés jouent un rôle plus important que les poids plus petits, mais les poids important sont moins nombreux. Ainsi pour l'initialisation Forgy et l'initialisation basée sur la densité, très peu de centres de gravité ont une valeur élevée, ce qui se traduit par une mauvaise représentation de ces quelques grands poids. L'initialisation linéaire ne souffre pas de ce problème."
   ]
  },
  {
   "cell_type": "code",
   "execution_count": 19,
   "metadata": {},
   "outputs": [
    {
     "name": "stderr",
     "output_type": "stream",
     "text": [
      "C:\\Users\\32474\\anaconda3\\lib\\site-packages\\sklearn\\cluster\\_kmeans.py:932: FutureWarning: 'precompute_distances' was deprecated in version 0.23 and will be removed in 0.25. It has no effect\n",
      "  warnings.warn(\"'precompute_distances' was deprecated in version \"\n",
      "C:\\Users\\32474\\anaconda3\\lib\\site-packages\\sklearn\\cluster\\_kmeans.py:932: FutureWarning: 'precompute_distances' was deprecated in version 0.23 and will be removed in 0.25. It has no effect\n",
      "  warnings.warn(\"'precompute_distances' was deprecated in version \"\n",
      "C:\\Users\\32474\\anaconda3\\lib\\site-packages\\sklearn\\cluster\\_kmeans.py:932: FutureWarning: 'precompute_distances' was deprecated in version 0.23 and will be removed in 0.25. It has no effect\n",
      "  warnings.warn(\"'precompute_distances' was deprecated in version \"\n"
     ]
    }
   ],
   "source": [
    "from sklearn.cluster import KMeans\n",
    "from scipy.sparse import csc_matrix, csr_matrix\n",
    "\n",
    "bits = 4\n",
    "\n",
    "for module in model.children():\n",
    "        weight = module.weight.data.cpu().numpy()\n",
    "        shape = weight.shape\n",
    "        mat = csr_matrix(weight) if shape[0] < shape[1] else csc_matrix(weight)\n",
    "        min_ = min(mat.data)\n",
    "        max_ = max(mat.data)\n",
    "        space = np.linspace(min_, max_, num=2**bits)\n",
    "        kmeans = KMeans(n_clusters=len(space), init=space.reshape(-1,1), n_init=1, precompute_distances=True, algorithm=\"full\")\n",
    "        kmeans.fit(mat.data.reshape(-1,1))\n",
    "        new_weight = kmeans.cluster_centers_[kmeans.labels_].reshape(-1)\n",
    "        mat.data = new_weight\n",
    "        module.weight.data = torch.from_numpy(mat.toarray())"
   ]
  },
  {
   "cell_type": "code",
   "execution_count": 20,
   "metadata": {},
   "outputs": [
    {
     "name": "stdout",
     "output_type": "stream",
     "text": [
      "--- accuacy after weight sharing ---\n",
      "Test set: Average loss: 0.2918, Accuracy: 930/1000 (93.00%)\n",
      "tensor([ 0.0000, -0.1066,  0.0000,  0.0000,  0.0000, -0.1066,  0.0000,  0.0000,\n",
      "         0.0000, -0.2558,  0.0000, -0.1771,  0.0000,  0.0000,  0.0000,  0.0000,\n",
      "        -0.1403, -0.2106,  0.0000,  0.0000,  0.1526, -0.1066,  0.0000,  0.0000,\n",
      "         0.0000,  0.0000,  0.0000,  0.0000,  0.0000,  0.0000,  0.0000, -0.2106,\n",
      "         0.0000,  0.0000, -0.2558,  0.0000,  0.0000,  0.0000,  0.0000,  0.0000,\n",
      "         0.0000,  0.0000, -0.1771,  0.0000,  0.0000,  0.1809, -0.2558,  0.1526,\n",
      "         0.0000,  0.0000, -0.1403,  0.0000,  0.1526, -0.1066,  0.0000, -0.3105,\n",
      "         0.0000,  0.0000,  0.0000, -0.1066,  0.0000, -0.1771,  0.1526,  0.0000,\n",
      "         0.0000,  0.0000, -0.1403, -0.2735,  0.0000,  0.0000,  0.0000,  0.0000,\n",
      "         0.0000,  0.0000, -0.2106,  0.1809, -0.1403,  0.0000,  0.0000,  0.0000,\n",
      "         0.0000,  0.0000,  0.2152,  0.0000,  0.1526,  0.0000,  0.2152,  0.0000,\n",
      "        -0.1771,  0.0000,  0.1809,  0.0000,  0.0000,  0.0000,  0.0000,  0.0000,\n",
      "         0.0000,  0.1809,  0.0000,  0.0000], grad_fn=<SelectBackward>)\n"
     ]
    }
   ],
   "source": [
    "print('--- accuacy after weight sharing ---')\n",
    "test()\n",
    "print(model.fc3.weight[0])\n",
    "#print(model.fc3.mask[0])"
   ]
  },
  {
   "cell_type": "markdown",
   "metadata": {},
   "source": [
    "A nouveau vous pouvez jouer avec le paramètre **bits** et réduire le nombre de bits utilisés pour encoder les différents poids (c'est à dire le nombre de cluster) et observer comment la précision du modèle évolue."
   ]
  },
  {
   "cell_type": "markdown",
   "metadata": {},
   "source": [
    "#### Complement\n",
    "\n",
    "Pour terminer cette étape du partage des poids, il peut être intéressant d'entrainer à nouveau notre modèle pour ajuster finement la valeur partagée de ces poids. Pour ce faire durant la back-propagation, les gradients de chaque poids d'un même groupe sont additionnés afin de modifier le poids partagé. Cette étape est explicitée dans la figure ci-dessous pour l'exemple précédent d'une matrice 4 x 4.\n",
    "\n",
    "<img src=\"img/finetuned.png\" width=\"50%\"> (© [[1]](#bib))"
   ]
  },
  {
   "cell_type": "markdown",
   "metadata": {},
   "source": [
    "## <a id=\"bib\"> Bibliographie</a>\n",
    "\n",
    "[1] *Deep Compression: Compressing Deep Neural Networks with Pruning, Trained Quantization and Huffman Coding*, 2015, Song Han, Huizi Mao, William J. Dally\n",
    "\n",
    "[2] *Compact Neural Representation Using Attentive Network Pruning*, 2020, Mahdi Biparva, John Tsotsos.\n",
    "\n",
    "[3] *Noiseout: A simple way to prune neural networks*, arXiv preprint arXiv:1611.06211 (2016), Babaeizadeh, Mohammad, Paris Smaragdis, and Roy H. Campbell.\n",
    "\n",
    "[4] *Learning both Weights and Connections for Efficient Neural Networks*, 2015 Song Han, Jeff Pool, John Tran, William J. Dally"
   ]
  }
 ],
 "metadata": {
  "kernelspec": {
   "display_name": "Python 3",
   "language": "python",
   "name": "python3"
  },
  "language_info": {
   "codemirror_mode": {
    "name": "ipython",
    "version": 3
   },
   "file_extension": ".py",
   "mimetype": "text/x-python",
   "name": "python",
   "nbconvert_exporter": "python",
   "pygments_lexer": "ipython3",
   "version": "3.8.3"
  }
 },
 "nbformat": 4,
 "nbformat_minor": 4
}
